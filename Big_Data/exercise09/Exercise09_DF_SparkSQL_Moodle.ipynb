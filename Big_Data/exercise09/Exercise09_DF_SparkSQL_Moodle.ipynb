{
 "cells": [
  {
   "cell_type": "markdown",
   "metadata": {},
   "source": [
    "# <center>Big Data &ndash; Exercises</center>\n",
    "## <center>Fall 2021 &ndash; Week 9 &ndash; ETH Zurich</center>\n",
    "## <center>Spark Dataframes and Spark SQL, Moodle exercise</center>\n",
    "\n",
    "# Preparation for the moodle exercise in Spark\n",
    "\n",
    "In this jupyter notebook we are going to make the preprocessing part of the dataset that is going to be used in the graded exercise of this week.\n",
    "It will be the same language game dataset as in exercise08.\n",
    "\n",
    "1. Change to exercise09 repository\n",
    "\n",
    "2. Start docker <br>\n",
    "```docker-compose up -d```\n",
    "\n",
    "3. Getting the data:\n",
    "Follow the procedure that is described below. The dataset can be found here: http://data.greatlanguagegame.com.s3.amazonaws.com/confusion-2014-03-02.tbz2. \n",
    "\n",
    "More specifically do the following:\n",
    "- download the data      :<br> ```wget http://data.greatlanguagegame.com.s3.amazonaws.com/confusion-2014-03-02.tbz2```\n",
    "- extract the data       :<br> ```tar -jxvf confusion-2014-03-02.tbz2```\n",
    "\n",
    "4. copy the data to docker :<br> ```docker cp confusion-2014-03-02/confusion-2014-03-02.json jupyter:/home/jovyan/work``` <br>\n",
    "(Copying the data to docker needs to be done only once and it might take 1-2 minutes.)\n",
    "\n",
    "## More Info about the data\n",
    "You can find more information about the dataset (as well as the schema and examples) in this link: http://lars.yencken.org/datasets/languagegame/"
   ]
  },
  {
   "cell_type": "markdown",
   "metadata": {},
   "source": [
    "## Instructions:\n",
    "\n",
    "In every query we ask you for three quantities: the query itself, the result of the query as well as the productivity time. That means the development time of each query (time elapsed before you start writing the query, and the time at which the correct, final query is ready). Note that the time part of every question is optional and not graded. In order to make easier the time recording we created two functions that do it automatically. Run the cell below in order to import the functions into the current notebook. Then before each query we will have a ```start_exercise()``` cell that you have to run in order to start time recording. After you have finished your query and you are sure about the answer run the ```finish_exercise()``` one to get the time measurement. "
   ]
  },
  {
   "cell_type": "code",
   "execution_count": null,
   "metadata": {
    "cell_status": {
     "execute_time": {
      "duration": 39.236083984375,
      "end_time": 1573672504782.379
     }
    },
    "jupyter": {
     "outputs_hidden": false
    },
    "scrolled": true
   },
   "outputs": [],
   "source": [
    "import time\n",
    "\n",
    "def start_exercise():\n",
    "    global last\n",
    "    last = time.time()\n",
    "    \n",
    "def finish_exercise():\n",
    "    global last\n",
    "    print(\"This exercise took {0}s\".format(int(time.time()-last)))"
   ]
  },
  {
   "cell_type": "markdown",
   "metadata": {},
   "source": [
    "## <center>1. Spark Dataframes</center>\n",
    "\n",
    "Write queries for the same questions as last week, but this time using Spark Dataframes operations (the data loading will take a minute)"
   ]
  },
  {
   "cell_type": "markdown",
   "metadata": {},
   "source": [
    "### 1.0. Data preprocessing"
   ]
  },
  {
   "cell_type": "code",
   "execution_count": null,
   "metadata": {
    "cell_status": {
     "execute_time": {
      "duration": 11301.424072265625,
      "end_time": 1573676870300.81
     }
    },
    "tags": []
   },
   "outputs": [],
   "source": [
    "import json\n",
    "from pyspark.sql import SparkSession\n",
    "from pyspark import SparkConf\n",
    "\n",
    "spark = SparkSession.builder.master('local').getOrCreate()\n",
    "sc = spark.sparkContext\n",
    "\n",
    "path = \"confusion-2014-03-02.json\"\n",
    "dataset = spark.read.json(path).cache()"
   ]
  },
  {
   "cell_type": "code",
   "execution_count": null,
   "metadata": {
    "cell_status": {
     "execute_time": {
      "duration": 247.257080078125,
      "end_time": 1573676894196.787
     }
    },
    "jupyter": {
     "outputs_hidden": false
    }
   },
   "outputs": [],
   "source": [
    "#test it out\n",
    "dataset.limit(3).show()"
   ]
  },
  {
   "cell_type": "markdown",
   "metadata": {},
   "source": [
    "## Assignment 1\n",
    "Find the number of games where the guessed language is correct (meaning equal to the target one) and that language is Maori."
   ]
  },
  {
   "cell_type": "code",
   "execution_count": null,
   "metadata": {
    "collapsed": true,
    "jupyter": {
     "outputs_hidden": true
    }
   },
   "outputs": [],
   "source": [
    "start_exercise()"
   ]
  },
  {
   "cell_type": "code",
   "execution_count": null,
   "metadata": {
    "cell_status": {
     "execute_time": {
      "duration": 951.284912109375,
      "end_time": 1573677112003.169
     }
    },
    "jupyter": {
     "outputs_hidden": false
    }
   },
   "outputs": [],
   "source": [
    "#Your code here\n",
    "dataset.filter(dataset['target'] == dataset['guess']).filter(dataset['target'] == 'Maori').count()"
   ]
  },
  {
   "cell_type": "code",
   "execution_count": null,
   "metadata": {
    "collapsed": true,
    "jupyter": {
     "outputs_hidden": true
    }
   },
   "outputs": [],
   "source": [
    "finish_exercise()"
   ]
  },
  {
   "cell_type": "markdown",
   "metadata": {},
   "source": [
    "## Assignment 2\n",
    "Return the number of distinct \"target\" languages."
   ]
  },
  {
   "cell_type": "code",
   "execution_count": null,
   "metadata": {
    "collapsed": true,
    "jupyter": {
     "outputs_hidden": true
    }
   },
   "outputs": [],
   "source": [
    "start_exercise()"
   ]
  },
  {
   "cell_type": "code",
   "execution_count": null,
   "metadata": {
    "cell_status": {
     "execute_time": {
      "duration": 751.157958984375,
      "end_time": 1573677210603.419
     }
    },
    "jupyter": {
     "outputs_hidden": false
    }
   },
   "outputs": [],
   "source": [
    "#Your code here\n",
    "dataset.select(\"target\").distinct().count()"
   ]
  },
  {
   "cell_type": "code",
   "execution_count": null,
   "metadata": {
    "collapsed": true,
    "jupyter": {
     "outputs_hidden": true
    }
   },
   "outputs": [],
   "source": [
    "finish_exercise()"
   ]
  },
  {
   "cell_type": "markdown",
   "metadata": {},
   "source": [
    "## Assignment 3\n",
    "Return the sample IDs (i.e., the *sample* field) of the bottom three games where the guessed language is incorrect (not equal to the target one) ordered by date (ascending), then by language (descending), then by country (ascending)."
   ]
  },
  {
   "cell_type": "code",
   "execution_count": null,
   "metadata": {
    "collapsed": true,
    "jupyter": {
     "outputs_hidden": true
    }
   },
   "outputs": [],
   "source": [
    "start_exercise()"
   ]
  },
  {
   "cell_type": "code",
   "execution_count": null,
   "metadata": {
    "cell_status": {
     "execute_time": {
      "duration": 757.619140625,
      "end_time": 1573677388481.756
     }
    },
    "jupyter": {
     "outputs_hidden": false
    }
   },
   "outputs": [],
   "source": [
    "#Your code here\n",
    "dataset.filter(dataset['target'] == dataset['guess']).orderBy(\n",
    "    dataset['target'].asc(), dataset['country'].asc(), dataset['date'].asc()).select(\"sample\").take(3)\n"
   ]
  },
  {
   "cell_type": "code",
   "execution_count": null,
   "metadata": {
    "collapsed": true,
    "jupyter": {
     "outputs_hidden": true
    }
   },
   "outputs": [],
   "source": [
    "finish_exercise()"
   ]
  },
  {
   "cell_type": "markdown",
   "metadata": {},
   "source": [
    "## Assignment 4\n",
    "Aggregate all games by country and target language, counting the number of guesses for each group and return the frequencies of the three most frequent country/language combinations."
   ]
  },
  {
   "cell_type": "code",
   "execution_count": null,
   "metadata": {
    "collapsed": true,
    "jupyter": {
     "outputs_hidden": true
    }
   },
   "outputs": [],
   "source": [
    "start_exercise()"
   ]
  },
  {
   "cell_type": "code",
   "execution_count": null,
   "metadata": {
    "cell_status": {
     "execute_time": {
      "duration": 1262.1181640625,
      "end_time": 1573677845774.178
     }
    },
    "jupyter": {
     "outputs_hidden": false
    }
   },
   "outputs": [],
   "source": [
    "from pyspark.sql.functions import col, asc, desc\n",
    "\n",
    "#Your code here\n",
    "dataset.select(\"country\", \"target\").groupBy(\n",
    "    \"country\", \"target\").count().orderBy(col(\"count\").desc()).take(3)\n"
   ]
  },
  {
   "cell_type": "code",
   "execution_count": null,
   "metadata": {
    "collapsed": true,
    "jupyter": {
     "outputs_hidden": true
    }
   },
   "outputs": [],
   "source": [
    "finish_exercise()"
   ]
  },
  {
   "cell_type": "markdown",
   "metadata": {},
   "source": [
    "## Assignment 5\n",
    "Find the fraction (between 0 and 1) of games where (the answer was correct && the correct guess was the second choice amongst the array of possible answers)\n",
    "\n",
    "Please write the fraction rounding to 4 decimals (eg. 0.3320)"
   ]
  },
  {
   "cell_type": "code",
   "execution_count": null,
   "metadata": {
    "collapsed": true,
    "jupyter": {
     "outputs_hidden": true
    }
   },
   "outputs": [],
   "source": [
    "start_exercise()"
   ]
  },
  {
   "cell_type": "code",
   "execution_count": null,
   "metadata": {
    "cell_status": {
     "execute_time": {
      "duration": 747.340087890625,
      "end_time": 1573678219912.345
     }
    },
    "jupyter": {
     "outputs_hidden": false
    }
   },
   "outputs": [],
   "source": [
    "#Your code here\n",
    "correct = dataset.filter(dataset['target'] == dataset['guess']).filter(\n",
    "    dataset['target'] == dataset['choices'][1]).count()\n",
    "total = dataset.select().count()\n",
    "\n",
    "correct/total\n"
   ]
  },
  {
   "cell_type": "code",
   "execution_count": null,
   "metadata": {
    "collapsed": true,
    "jupyter": {
     "outputs_hidden": true
    }
   },
   "outputs": [],
   "source": [
    "finish_exercise()"
   ]
  },
  {
   "cell_type": "markdown",
   "metadata": {},
   "source": [
    "## Assignment 6\n",
    "Sort the languages by increasing overall percentage of correct guesses and return the first three languages."
   ]
  },
  {
   "cell_type": "code",
   "execution_count": null,
   "metadata": {
    "collapsed": true,
    "jupyter": {
     "outputs_hidden": true
    }
   },
   "outputs": [],
   "source": [
    "start_exercise()"
   ]
  },
  {
   "cell_type": "code",
   "execution_count": null,
   "metadata": {
    "cell_status": {
     "execute_time": {
      "duration": 2296.300048828125,
      "end_time": 1573679041069.18
     }
    },
    "jupyter": {
     "outputs_hidden": false
    }
   },
   "outputs": [],
   "source": [
    "#Your code here\n",
    "allz = dataset.groupBy('target').count().withColumnRenamed(\"count\", \"allz\")\n",
    "correct = dataset.filter(dataset['target'] == dataset['guess']).groupBy('target').count()\n",
    "joined = allz.join(correct, ['target'])\n",
    "\n",
    "joined.select((joined['count'] / joined['allz']).alias('p'), \"target\").sort('P').take(3)"
   ]
  },
  {
   "cell_type": "code",
   "execution_count": null,
   "metadata": {
    "collapsed": true,
    "jupyter": {
     "outputs_hidden": true
    }
   },
   "outputs": [],
   "source": [
    "finish_exercise()"
   ]
  },
  {
   "cell_type": "markdown",
   "metadata": {},
   "source": [
    "## Assignment 7\n",
    "Return the number of games played on the first day."
   ]
  },
  {
   "cell_type": "code",
   "execution_count": null,
   "metadata": {
    "collapsed": true,
    "jupyter": {
     "outputs_hidden": true
    }
   },
   "outputs": [],
   "source": [
    "start_exercise()"
   ]
  },
  {
   "cell_type": "code",
   "execution_count": null,
   "metadata": {
    "cell_status": {
     "execute_time": {
      "duration": 751.73388671875,
      "end_time": 1573679567817.314
     }
    },
    "jupyter": {
     "outputs_hidden": false
    }
   },
   "outputs": [],
   "source": [
    "#Your code here\n",
    "first_day = dataset.select(dataset['date']).sort(dataset['date'].asc()).take(1)[0]['date']\n",
    "dataset.filter(dataset['date'] == first_day).count()"
   ]
  },
  {
   "cell_type": "code",
   "execution_count": null,
   "metadata": {
    "collapsed": true,
    "jupyter": {
     "outputs_hidden": true
    }
   },
   "outputs": [],
   "source": [
    "finish_exercise()"
   ]
  },
  {
   "cell_type": "markdown",
   "metadata": {},
   "source": [
    "## <center>2. Spark SQL</center>\n",
    "\n",
    "Write Spark SQL queries for the same questions as earlier."
   ]
  },
  {
   "cell_type": "markdown",
   "metadata": {},
   "source": [
    "### 2.0. Data preprocessing"
   ]
  },
  {
   "cell_type": "code",
   "execution_count": null,
   "metadata": {},
   "outputs": [],
   "source": [
    "!pip install sparksql-magic"
   ]
  },
  {
   "cell_type": "code",
   "execution_count": null,
   "metadata": {},
   "outputs": [],
   "source": [
    "%load_ext sparksql_magic"
   ]
  },
  {
   "cell_type": "code",
   "execution_count": null,
   "metadata": {
    "cell_status": {
     "execute_time": {
      "duration": 15326.347900390625,
      "end_time": 1573674838228.037
     }
    },
    "collapsed": true,
    "jupyter": {
     "outputs_hidden": true
    },
    "scrolled": true
   },
   "outputs": [],
   "source": [
    "path = \"confusion-2014-03-02.json\"\n",
    "dataset = spark.read.json(path).cache()\n",
    "dataset.registerTempTable(\"dataset\")"
   ]
  },
  {
   "cell_type": "code",
   "execution_count": null,
   "metadata": {
    "cell_status": {
     "execute_time": {
      "duration": 19343.071044921875,
      "end_time": 1573674865742.795
     }
    },
    "jupyter": {
     "outputs_hidden": false
    }
   },
   "outputs": [],
   "source": [
    "%%sparksql\n",
    "-- test it out\n",
    "SELECT *\n",
    "FROM dataset\n",
    "LIMIT 3"
   ]
  },
  {
   "cell_type": "markdown",
   "metadata": {},
   "source": [
    "## Assignment 1\n",
    "Find the number of games where the guessed language is correct (meaning equal to the target one) and that language is Maori."
   ]
  },
  {
   "cell_type": "code",
   "execution_count": null,
   "metadata": {},
   "outputs": [],
   "source": [
    "dataset.filter(dataset['target'] == dataset['guess']).filter(\n",
    "    dataset['target'] == 'Maori').count()\n"
   ]
  },
  {
   "cell_type": "code",
   "execution_count": null,
   "metadata": {
    "collapsed": true,
    "jupyter": {
     "outputs_hidden": true
    }
   },
   "outputs": [],
   "source": [
    "start_exercise()"
   ]
  },
  {
   "cell_type": "code",
   "execution_count": 85,
   "metadata": {
    "cell_status": {
     "execute_time": {
      "duration": 3269.97802734375,
      "end_time": 1573674917442.039
     }
    },
    "jupyter": {
     "outputs_hidden": false
    }
   },
   "outputs": [
    {
     "name": "stdout",
     "output_type": "stream",
     "text": [
      "22/11/29 19:27:42 WARN MemoryStore: Not enough space to cache rdd_11_1 in memory! (computed 13.9 MiB so far)\n",
      "22/11/29 19:27:42 WARN MemoryStore: Not enough space to cache rdd_11_3 in memory! (computed 14.1 MiB so far)\n",
      "22/11/29 19:27:42 WARN MemoryStore: Not enough space to cache rdd_11_4 in memory! (computed 14.2 MiB so far)\n",
      "22/11/29 19:27:42 WARN MemoryStore: Not enough space to cache rdd_11_5 in memory! (computed 14.1 MiB so far)\n",
      "22/11/29 19:27:42 WARN MemoryStore: Not enough space to cache rdd_11_6 in memory! (computed 14.0 MiB so far)\n"
     ]
    },
    {
     "name": "stderr",
     "output_type": "stream",
     "text": [
      "[Stage 90:===============>                                         (6 + 1) / 22]\r"
     ]
    },
    {
     "name": "stdout",
     "output_type": "stream",
     "text": [
      "22/11/29 19:27:42 WARN MemoryStore: Not enough space to cache rdd_11_7 in memory! (computed 14.3 MiB so far)\n",
      "22/11/29 19:27:42 WARN MemoryStore: Not enough space to cache rdd_11_8 in memory! (computed 14.1 MiB so far)\n",
      "22/11/29 19:27:42 WARN MemoryStore: Not enough space to cache rdd_11_9 in memory! (computed 13.9 MiB so far)\n"
     ]
    },
    {
     "name": "stderr",
     "output_type": "stream",
     "text": [
      "[Stage 90:====================>                                    (8 + 1) / 22]\r"
     ]
    },
    {
     "name": "stdout",
     "output_type": "stream",
     "text": [
      "22/11/29 19:27:42 WARN MemoryStore: Not enough space to cache rdd_11_10 in memory! (computed 14.1 MiB so far)\n",
      "22/11/29 19:27:42 WARN MemoryStore: Not enough space to cache rdd_11_11 in memory! (computed 13.8 MiB so far)\n",
      "22/11/29 19:27:43 WARN MemoryStore: Not enough space to cache rdd_11_12 in memory! (computed 14.3 MiB so far)\n"
     ]
    },
    {
     "name": "stderr",
     "output_type": "stream",
     "text": [
      "[Stage 90:==============================>                         (12 + 1) / 22]\r"
     ]
    },
    {
     "name": "stdout",
     "output_type": "stream",
     "text": [
      "22/11/29 19:27:43 WARN MemoryStore: Not enough space to cache rdd_11_14 in memory! (computed 13.6 MiB so far)\n",
      "22/11/29 19:27:43 WARN MemoryStore: Not enough space to cache rdd_11_16 in memory! (computed 14.0 MiB so far)\n"
     ]
    },
    {
     "name": "stderr",
     "output_type": "stream",
     "text": [
      "[Stage 90:=============================================>          (18 + 1) / 22]\r"
     ]
    },
    {
     "name": "stdout",
     "output_type": "stream",
     "text": [
      "22/11/29 19:27:43 WARN MemoryStore: Not enough space to cache rdd_11_18 in memory! (computed 13.9 MiB so far)\n",
      "22/11/29 19:27:43 WARN MemoryStore: Not enough space to cache rdd_11_20 in memory! (computed 14.0 MiB so far)\n"
     ]
    },
    {
     "name": "stderr",
     "output_type": "stream",
     "text": [
      "                                                                                \r"
     ]
    },
    {
     "data": {
      "text/html": [
       "<table><tr style=\"border-bottom: 1px solid\"><td style=\"font-weight: bold\">count(1)</td></tr><tr><td>74810</td></tr></table>"
      ],
      "text/plain": [
       "<IPython.core.display.HTML object>"
      ]
     },
     "execution_count": 85,
     "metadata": {},
     "output_type": "execute_result"
    }
   ],
   "source": [
    "%%sparksql\n",
    "SELECT count(*) FROM dataset WHERE target = guess and target = 'Maori'"
   ]
  },
  {
   "cell_type": "code",
   "execution_count": 86,
   "metadata": {
    "collapsed": true,
    "jupyter": {
     "outputs_hidden": true
    }
   },
   "outputs": [
    {
     "name": "stdout",
     "output_type": "stream",
     "text": [
      "This exercise took 136s\n"
     ]
    }
   ],
   "source": [
    "finish_exercise()"
   ]
  },
  {
   "cell_type": "markdown",
   "metadata": {},
   "source": [
    "## Assignment 2\n",
    "Return the number of distinct \"target\" languages."
   ]
  },
  {
   "cell_type": "code",
   "execution_count": 89,
   "metadata": {
    "collapsed": true,
    "jupyter": {
     "outputs_hidden": true
    }
   },
   "outputs": [],
   "source": [
    "start_exercise()"
   ]
  },
  {
   "cell_type": "code",
   "execution_count": 87,
   "metadata": {
    "cell_status": {
     "execute_time": {
      "duration": 5283.8310546875,
      "end_time": 1573674952324.165
     }
    },
    "jupyter": {
     "outputs_hidden": false
    }
   },
   "outputs": [
    {
     "name": "stdout",
     "output_type": "stream",
     "text": [
      "22/11/29 19:28:44 WARN MemoryStore: Not enough space to cache rdd_11_1 in memory! (computed 13.9 MiB so far)\n",
      "22/11/29 19:28:44 WARN MemoryStore: Not enough space to cache rdd_11_3 in memory! (computed 14.1 MiB so far)\n",
      "22/11/29 19:28:44 WARN MemoryStore: Not enough space to cache rdd_11_4 in memory! (computed 14.2 MiB so far)\n",
      "22/11/29 19:28:44 WARN MemoryStore: Not enough space to cache rdd_11_5 in memory! (computed 14.1 MiB so far)\n"
     ]
    },
    {
     "name": "stderr",
     "output_type": "stream",
     "text": [
      "[Stage 93:============>                                            (5 + 1) / 22]\r"
     ]
    },
    {
     "name": "stdout",
     "output_type": "stream",
     "text": [
      "22/11/29 19:28:44 WARN MemoryStore: Not enough space to cache rdd_11_6 in memory! (computed 14.0 MiB so far)\n",
      "22/11/29 19:28:44 WARN MemoryStore: Not enough space to cache rdd_11_7 in memory! (computed 14.3 MiB so far)\n"
     ]
    },
    {
     "name": "stderr",
     "output_type": "stream",
     "text": [
      "[Stage 93:===============>                                         (6 + 1) / 22]\r"
     ]
    },
    {
     "name": "stdout",
     "output_type": "stream",
     "text": [
      "22/11/29 19:28:44 WARN MemoryStore: Not enough space to cache rdd_11_8 in memory! (computed 14.1 MiB so far)\n",
      "22/11/29 19:28:45 WARN MemoryStore: Not enough space to cache rdd_11_9 in memory! (computed 13.9 MiB so far)\n"
     ]
    },
    {
     "name": "stderr",
     "output_type": "stream",
     "text": [
      "[Stage 93:=========================>                              (10 + 1) / 22]\r"
     ]
    },
    {
     "name": "stdout",
     "output_type": "stream",
     "text": [
      "22/11/29 19:28:45 WARN MemoryStore: Not enough space to cache rdd_11_10 in memory! (computed 14.1 MiB so far)\n",
      "22/11/29 19:28:45 WARN MemoryStore: Not enough space to cache rdd_11_11 in memory! (computed 13.8 MiB so far)\n"
     ]
    },
    {
     "name": "stderr",
     "output_type": "stream",
     "text": [
      "[Stage 93:============================>                           (11 + 1) / 22]\r"
     ]
    },
    {
     "name": "stdout",
     "output_type": "stream",
     "text": [
      "22/11/29 19:28:45 WARN MemoryStore: Not enough space to cache rdd_11_12 in memory! (computed 14.3 MiB so far)\n",
      "22/11/29 19:28:45 WARN MemoryStore: Not enough space to cache rdd_11_14 in memory! (computed 13.6 MiB so far)\n"
     ]
    },
    {
     "name": "stderr",
     "output_type": "stream",
     "text": [
      "[Stage 93:======================================>                 (15 + 1) / 22]\r"
     ]
    },
    {
     "name": "stdout",
     "output_type": "stream",
     "text": [
      "22/11/29 19:28:45 WARN MemoryStore: Not enough space to cache rdd_11_16 in memory! (computed 14.0 MiB so far)\n",
      "22/11/29 19:28:46 WARN MemoryStore: Not enough space to cache rdd_11_18 in memory! (computed 13.9 MiB so far)\n"
     ]
    },
    {
     "name": "stderr",
     "output_type": "stream",
     "text": [
      "[Stage 93:==================================================>     (20 + 1) / 22]\r"
     ]
    },
    {
     "name": "stdout",
     "output_type": "stream",
     "text": [
      "22/11/29 19:28:46 WARN MemoryStore: Not enough space to cache rdd_11_20 in memory! (computed 14.0 MiB so far)\n"
     ]
    },
    {
     "name": "stderr",
     "output_type": "stream",
     "text": [
      "                                                                                \r"
     ]
    },
    {
     "data": {
      "text/html": [
       "<table><tr style=\"border-bottom: 1px solid\"><td style=\"font-weight: bold\">count(DISTINCT target)</td></tr><tr><td>78</td></tr></table>"
      ],
      "text/plain": [
       "<IPython.core.display.HTML object>"
      ]
     },
     "execution_count": 87,
     "metadata": {},
     "output_type": "execute_result"
    }
   ],
   "source": [
    "%%sparksql\n",
    "SELECT count(distinct target) FROM dataset"
   ]
  },
  {
   "cell_type": "code",
   "execution_count": 90,
   "metadata": {
    "collapsed": true,
    "jupyter": {
     "outputs_hidden": true
    }
   },
   "outputs": [
    {
     "name": "stdout",
     "output_type": "stream",
     "text": [
      "This exercise took 12s\n"
     ]
    }
   ],
   "source": [
    "finish_exercise()"
   ]
  },
  {
   "cell_type": "markdown",
   "metadata": {},
   "source": [
    "## Assignment 3\n",
    "Return the sample IDs (i.e., the *sample* field) of the bottom three games where the guessed language is incorrect (not equal to the target one) ordered by date (ascending), then by language (descending), then by country (ascending)."
   ]
  },
  {
   "cell_type": "code",
   "execution_count": null,
   "metadata": {},
   "outputs": [],
   "source": [
    "# Your code here\n",
    "dataset.filter(dataset['target'] == dataset['guess']).orderBy(\n",
    "    dataset['target'].asc(), dataset['country'].asc(), dataset['date'].asc()).select(\"sample\").take(3)\n"
   ]
  },
  {
   "cell_type": "code",
   "execution_count": 92,
   "metadata": {
    "collapsed": true,
    "jupyter": {
     "outputs_hidden": true
    }
   },
   "outputs": [],
   "source": [
    "start_exercise()"
   ]
  },
  {
   "cell_type": "code",
   "execution_count": 93,
   "metadata": {
    "cell_status": {
     "execute_time": {
      "duration": 2259.453857421875,
      "end_time": 1573674971198.841
     }
    },
    "jupyter": {
     "outputs_hidden": false
    }
   },
   "outputs": [
    {
     "name": "stdout",
     "output_type": "stream",
     "text": [
      "22/11/29 19:32:03 WARN MemoryStore: Not enough space to cache rdd_11_1 in memory! (computed 13.9 MiB so far)\n",
      "22/11/29 19:32:03 WARN MemoryStore: Not enough space to cache rdd_11_3 in memory! (computed 14.1 MiB so far)\n",
      "22/11/29 19:32:03 WARN MemoryStore: Not enough space to cache rdd_11_4 in memory! (computed 14.2 MiB so far)\n"
     ]
    },
    {
     "name": "stderr",
     "output_type": "stream",
     "text": [
      "[Stage 99:============>                                            (5 + 1) / 22]\r"
     ]
    },
    {
     "name": "stdout",
     "output_type": "stream",
     "text": [
      "22/11/29 19:32:04 WARN MemoryStore: Not enough space to cache rdd_11_5 in memory! (computed 14.1 MiB so far)\n",
      "22/11/29 19:32:04 WARN MemoryStore: Not enough space to cache rdd_11_6 in memory! (computed 14.0 MiB so far)\n"
     ]
    },
    {
     "name": "stderr",
     "output_type": "stream",
     "text": [
      "[Stage 99:===============>                                         (6 + 1) / 22]\r"
     ]
    },
    {
     "name": "stdout",
     "output_type": "stream",
     "text": [
      "22/11/29 19:32:04 WARN MemoryStore: Not enough space to cache rdd_11_7 in memory! (computed 14.3 MiB so far)\n",
      "22/11/29 19:32:04 WARN MemoryStore: Not enough space to cache rdd_11_8 in memory! (computed 14.1 MiB so far)\n"
     ]
    },
    {
     "name": "stderr",
     "output_type": "stream",
     "text": [
      "[Stage 99:====================>                                    (8 + 1) / 22]\r"
     ]
    },
    {
     "name": "stdout",
     "output_type": "stream",
     "text": [
      "22/11/29 19:32:04 WARN MemoryStore: Not enough space to cache rdd_11_9 in memory! (computed 13.9 MiB so far)\n",
      "22/11/29 19:32:05 WARN MemoryStore: Not enough space to cache rdd_11_10 in memory! (computed 14.1 MiB so far)\n"
     ]
    },
    {
     "name": "stderr",
     "output_type": "stream",
     "text": [
      "[Stage 99:=========================>                              (10 + 1) / 22]\r"
     ]
    },
    {
     "name": "stdout",
     "output_type": "stream",
     "text": [
      "22/11/29 19:32:05 WARN MemoryStore: Not enough space to cache rdd_11_11 in memory! (computed 13.8 MiB so far)\n",
      "22/11/29 19:32:05 WARN MemoryStore: Not enough space to cache rdd_11_12 in memory! (computed 14.3 MiB so far)\n"
     ]
    },
    {
     "name": "stderr",
     "output_type": "stream",
     "text": [
      "[Stage 99:===================================>                    (14 + 1) / 22]\r"
     ]
    },
    {
     "name": "stdout",
     "output_type": "stream",
     "text": [
      "22/11/29 19:32:05 WARN MemoryStore: Not enough space to cache rdd_11_14 in memory! (computed 13.6 MiB so far)\n"
     ]
    },
    {
     "name": "stderr",
     "output_type": "stream",
     "text": [
      "[Stage 99:======================================>                 (15 + 1) / 22]\r"
     ]
    },
    {
     "name": "stdout",
     "output_type": "stream",
     "text": [
      "22/11/29 19:32:06 WARN MemoryStore: Not enough space to cache rdd_11_16 in memory! (computed 14.0 MiB so far)\n"
     ]
    },
    {
     "name": "stderr",
     "output_type": "stream",
     "text": [
      "[Stage 99:========================================>               (16 + 1) / 22]\r"
     ]
    },
    {
     "name": "stdout",
     "output_type": "stream",
     "text": [
      "22/11/29 19:32:06 WARN MemoryStore: Not enough space to cache rdd_11_18 in memory! (computed 13.9 MiB so far)\n"
     ]
    },
    {
     "name": "stderr",
     "output_type": "stream",
     "text": [
      "[Stage 99:================================================>       (19 + 1) / 22]\r"
     ]
    },
    {
     "name": "stdout",
     "output_type": "stream",
     "text": [
      "22/11/29 19:32:06 WARN MemoryStore: Not enough space to cache rdd_11_20 in memory! (computed 14.0 MiB so far)\n"
     ]
    },
    {
     "name": "stderr",
     "output_type": "stream",
     "text": [
      "                                                                                \r"
     ]
    },
    {
     "data": {
      "text/html": [
       "<table><tr style=\"border-bottom: 1px solid\"><td style=\"font-weight: bold\">sample</td></tr><tr><td>00b85faa8b878a14f8781be334deb137</td></tr><tr><td>efcd813daec1c836d9f030b30caa07ce</td></tr><tr><td>efcd813daec1c836d9f030b30caa07ce</td></tr></table>"
      ],
      "text/plain": [
       "<IPython.core.display.HTML object>"
      ]
     },
     "execution_count": 93,
     "metadata": {},
     "output_type": "execute_result"
    }
   ],
   "source": [
    "%%sparksql\n",
    "SELECT sample from dataset WHERE target = guess ORDER BY target ASC, country ASC, date ASC LIMIT 3\n"
   ]
  },
  {
   "cell_type": "code",
   "execution_count": 94,
   "metadata": {
    "collapsed": true,
    "jupyter": {
     "outputs_hidden": true
    }
   },
   "outputs": [
    {
     "name": "stdout",
     "output_type": "stream",
     "text": [
      "This exercise took 59s\n"
     ]
    }
   ],
   "source": [
    "finish_exercise()"
   ]
  },
  {
   "cell_type": "markdown",
   "metadata": {},
   "source": [
    "## Assignment 4\n",
    "Aggregate all games by country and target language, counting the number of guesses for each group and return the frequencies of the three most frequent country/language combinations."
   ]
  },
  {
   "cell_type": "code",
   "execution_count": null,
   "metadata": {},
   "outputs": [],
   "source": [
    "dataset.select(\"country\", \"target\").groupBy(\n",
    "    \"country\", \"target\").count().orderBy(col(\"count\").desc()).take(3)\n"
   ]
  },
  {
   "cell_type": "code",
   "execution_count": 95,
   "metadata": {
    "collapsed": true,
    "jupyter": {
     "outputs_hidden": true
    }
   },
   "outputs": [],
   "source": [
    "start_exercise()"
   ]
  },
  {
   "cell_type": "code",
   "execution_count": 96,
   "metadata": {
    "cell_status": {
     "execute_time": {
      "duration": 3281.450927734375,
      "end_time": 1573675065646.265
     }
    },
    "jupyter": {
     "outputs_hidden": false
    }
   },
   "outputs": [
    {
     "name": "stderr",
     "output_type": "stream",
     "text": [
      "[Stage 100:==========>                                             (4 + 1) / 22]\r"
     ]
    },
    {
     "name": "stdout",
     "output_type": "stream",
     "text": [
      "22/11/29 19:34:35 WARN MemoryStore: Not enough space to cache rdd_11_5 in memory! (computed 54.2 MiB so far)\n"
     ]
    },
    {
     "name": "stderr",
     "output_type": "stream",
     "text": [
      "[Stage 100:============>                                           (5 + 1) / 22]\r"
     ]
    },
    {
     "name": "stdout",
     "output_type": "stream",
     "text": [
      "22/11/29 19:34:36 WARN MemoryStore: Not enough space to cache rdd_11_6 in memory! (computed 53.7 MiB so far)\n"
     ]
    },
    {
     "name": "stderr",
     "output_type": "stream",
     "text": [
      "[Stage 100:===============>                                        (6 + 1) / 22]\r"
     ]
    },
    {
     "name": "stdout",
     "output_type": "stream",
     "text": [
      "22/11/29 19:34:36 WARN MemoryStore: Not enough space to cache rdd_11_7 in memory! (computed 54.6 MiB so far)\n"
     ]
    },
    {
     "name": "stderr",
     "output_type": "stream",
     "text": [
      "[Stage 100:=================>                                      (7 + 1) / 22]\r"
     ]
    },
    {
     "name": "stdout",
     "output_type": "stream",
     "text": [
      "22/11/29 19:34:36 WARN MemoryStore: Not enough space to cache rdd_11_8 in memory! (computed 53.5 MiB so far)\n"
     ]
    },
    {
     "name": "stderr",
     "output_type": "stream",
     "text": [
      "[Stage 100:=========================>                             (10 + 1) / 22]\r"
     ]
    },
    {
     "name": "stdout",
     "output_type": "stream",
     "text": [
      "22/11/29 19:34:36 WARN MemoryStore: Not enough space to cache rdd_11_10 in memory! (computed 53.1 MiB so far)\n"
     ]
    },
    {
     "name": "stderr",
     "output_type": "stream",
     "text": [
      "[Stage 100:===========================>                           (11 + 1) / 22]\r"
     ]
    },
    {
     "name": "stdout",
     "output_type": "stream",
     "text": [
      "22/11/29 19:34:37 WARN MemoryStore: Not enough space to cache rdd_11_12 in memory! (computed 54.1 MiB so far)\n"
     ]
    },
    {
     "name": "stderr",
     "output_type": "stream",
     "text": [
      "[Stage 100:================================>                      (13 + 1) / 22]\r"
     ]
    },
    {
     "name": "stdout",
     "output_type": "stream",
     "text": [
      "22/11/29 19:34:37 WARN MemoryStore: Not enough space to cache rdd_11_14 in memory! (computed 52.7 MiB so far)\n"
     ]
    },
    {
     "name": "stderr",
     "output_type": "stream",
     "text": [
      "[Stage 100:=====================================>                 (15 + 1) / 22]\r"
     ]
    },
    {
     "name": "stdout",
     "output_type": "stream",
     "text": [
      "22/11/29 19:34:38 WARN MemoryStore: Not enough space to cache rdd_11_16 in memory! (computed 53.2 MiB so far)\n"
     ]
    },
    {
     "name": "stderr",
     "output_type": "stream",
     "text": [
      "[Stage 100:==========================================>            (17 + 1) / 22]\r"
     ]
    },
    {
     "name": "stdout",
     "output_type": "stream",
     "text": [
      "22/11/29 19:34:38 WARN MemoryStore: Not enough space to cache rdd_11_18 in memory! (computed 53.2 MiB so far)\n"
     ]
    },
    {
     "name": "stderr",
     "output_type": "stream",
     "text": [
      "[Stage 100:===============================================>       (19 + 1) / 22]\r"
     ]
    },
    {
     "name": "stdout",
     "output_type": "stream",
     "text": [
      "22/11/29 19:34:39 WARN MemoryStore: Not enough space to cache rdd_11_20 in memory! (computed 53.3 MiB so far)\n"
     ]
    },
    {
     "name": "stderr",
     "output_type": "stream",
     "text": [
      "                                                                                \r"
     ]
    },
    {
     "data": {
      "text/html": [
       "<table><tr style=\"border-bottom: 1px solid\"><td style=\"font-weight: bold\">count</td></tr><tr><td>112934</td></tr><tr><td>112007</td></tr><tr><td>110919</td></tr></table>"
      ],
      "text/plain": [
       "<IPython.core.display.HTML object>"
      ]
     },
     "execution_count": 96,
     "metadata": {},
     "output_type": "execute_result"
    }
   ],
   "source": [
    "%%sparksql\n",
    "select count(*) as count from dataset group by target, country order by count desc limit 3"
   ]
  },
  {
   "cell_type": "code",
   "execution_count": 97,
   "metadata": {
    "collapsed": true,
    "jupyter": {
     "outputs_hidden": true
    }
   },
   "outputs": [
    {
     "name": "stdout",
     "output_type": "stream",
     "text": [
      "This exercise took 121s\n"
     ]
    }
   ],
   "source": [
    "finish_exercise()"
   ]
  },
  {
   "cell_type": "markdown",
   "metadata": {},
   "source": [
    "## Assignment 5\n",
    "Find the fraction (between 0 and 1) of games where (the answer was correct && the correct guess was the second choice amongst the array of possible answers)\n",
    "\n",
    "Please write the fraction rounding to 4 decimals (eg. 0.3320)"
   ]
  },
  {
   "cell_type": "code",
   "execution_count": null,
   "metadata": {},
   "outputs": [],
   "source": [
    "correct = dataset.filter(dataset['target'] == dataset['guess']).filter(\n",
    "    dataset['target'] == dataset['choices'][1]).count()\n",
    "total = dataset.select().count()"
   ]
  },
  {
   "cell_type": "code",
   "execution_count": 106,
   "metadata": {
    "collapsed": true,
    "jupyter": {
     "outputs_hidden": true
    }
   },
   "outputs": [],
   "source": [
    "start_exercise()"
   ]
  },
  {
   "cell_type": "code",
   "execution_count": 122,
   "metadata": {
    "cell_status": {
     "execute_time": {
      "duration": 1265.067138671875,
      "end_time": 1573675200154.991
     }
    },
    "jupyter": {
     "outputs_hidden": false
    }
   },
   "outputs": [
    {
     "name": "stdout",
     "output_type": "stream",
     "text": [
      "22/11/29 19:49:30 WARN MemoryStore: Not enough space to cache rdd_11_1 in memory! (computed 27.1 MiB so far)\n",
      "22/11/29 19:49:30 WARN MemoryStore: Not enough space to cache rdd_11_2 in memory! (computed 14.0 MiB so far)\n",
      "22/11/29 19:49:30 WARN MemoryStore: Not enough space to cache rdd_11_3 in memory! (computed 14.1 MiB so far)\n",
      "22/11/29 19:49:30 WARN MemoryStore: Not enough space to cache rdd_11_4 in memory! (computed 14.2 MiB so far)\n"
     ]
    },
    {
     "name": "stderr",
     "output_type": "stream",
     "text": [
      "[Stage 121:==========>                                             (4 + 1) / 22]\r"
     ]
    },
    {
     "name": "stdout",
     "output_type": "stream",
     "text": [
      "22/11/29 19:49:30 WARN MemoryStore: Not enough space to cache rdd_11_5 in memory! (computed 14.1 MiB so far)\n",
      "22/11/29 19:49:31 WARN MemoryStore: Not enough space to cache rdd_11_6 in memory! (computed 14.0 MiB so far)\n"
     ]
    },
    {
     "name": "stderr",
     "output_type": "stream",
     "text": [
      "[Stage 121:===============>                                        (6 + 1) / 22]\r"
     ]
    },
    {
     "name": "stdout",
     "output_type": "stream",
     "text": [
      "22/11/29 19:49:31 WARN MemoryStore: Not enough space to cache rdd_11_7 in memory! (computed 14.3 MiB so far)\n",
      "22/11/29 19:49:31 WARN MemoryStore: Not enough space to cache rdd_11_8 in memory! (computed 14.1 MiB so far)\n"
     ]
    },
    {
     "name": "stderr",
     "output_type": "stream",
     "text": [
      "[Stage 121:====================>                                   (8 + 1) / 22]\r"
     ]
    },
    {
     "name": "stdout",
     "output_type": "stream",
     "text": [
      "22/11/29 19:49:31 WARN MemoryStore: Not enough space to cache rdd_11_9 in memory! (computed 27.0 MiB so far)\n",
      "22/11/29 19:49:31 WARN MemoryStore: Not enough space to cache rdd_11_10 in memory! (computed 14.1 MiB so far)\n"
     ]
    },
    {
     "name": "stderr",
     "output_type": "stream",
     "text": [
      "[Stage 121:===========================>                           (11 + 1) / 22]\r"
     ]
    },
    {
     "name": "stdout",
     "output_type": "stream",
     "text": [
      "22/11/29 19:49:31 WARN MemoryStore: Not enough space to cache rdd_11_12 in memory! (computed 14.3 MiB so far)\n",
      "22/11/29 19:49:31 WARN MemoryStore: Not enough space to cache rdd_11_14 in memory! (computed 26.6 MiB so far)\n"
     ]
    },
    {
     "name": "stderr",
     "output_type": "stream",
     "text": [
      "[Stage 121:========================================>              (16 + 1) / 22]\r"
     ]
    },
    {
     "name": "stdout",
     "output_type": "stream",
     "text": [
      "22/11/29 19:49:32 WARN MemoryStore: Not enough space to cache rdd_11_16 in memory! (computed 14.0 MiB so far)\n"
     ]
    },
    {
     "name": "stderr",
     "output_type": "stream",
     "text": [
      "[Stage 121:=============================================>         (18 + 1) / 22]\r"
     ]
    },
    {
     "name": "stdout",
     "output_type": "stream",
     "text": [
      "22/11/29 19:49:32 WARN MemoryStore: Not enough space to cache rdd_11_18 in memory! (computed 27.1 MiB so far)\n",
      "22/11/29 19:49:32 WARN MemoryStore: Not enough space to cache rdd_11_20 in memory! (computed 14.0 MiB so far)\n"
     ]
    },
    {
     "name": "stderr",
     "output_type": "stream",
     "text": [
      "[Stage 121:==================================================>    (20 + 1) / 22]\r"
     ]
    },
    {
     "name": "stdout",
     "output_type": "stream",
     "text": [
      "22/11/29 19:49:32 WARN MemoryStore: Not enough space to cache rdd_11_1 in memory! (computed 27.1 MiB so far)\n",
      "22/11/29 19:49:32 WARN MemoryStore: Not enough space to cache rdd_11_2 in memory! (computed 14.0 MiB so far)\n",
      "22/11/29 19:49:32 WARN MemoryStore: Not enough space to cache rdd_11_3 in memory! (computed 14.1 MiB so far)\n",
      "22/11/29 19:49:32 WARN MemoryStore: Not enough space to cache rdd_11_4 in memory! (computed 14.2 MiB so far)\n",
      "22/11/29 19:49:32 WARN MemoryStore: Not enough space to cache rdd_11_5 in memory! (computed 14.1 MiB so far)\n",
      "22/11/29 19:49:32 WARN MemoryStore: Not enough space to cache rdd_11_6 in memory! (computed 14.0 MiB so far)\n",
      "22/11/29 19:49:33 WARN MemoryStore: Not enough space to cache rdd_11_7 in memory! (computed 14.3 MiB so far)\n",
      "22/11/29 19:49:33 WARN MemoryStore: Not enough space to cache rdd_11_8 in memory! (computed 14.1 MiB so far)\n",
      "22/11/29 19:49:33 WARN MemoryStore: Not enough space to cache rdd_11_9 in memory! (computed 27.0 MiB so far)\n",
      "22/11/29 19:49:33 WARN MemoryStore: Not enough space to cache rdd_11_10 in memory! (computed 14.1 MiB so far)\n",
      "22/11/29 19:49:33 WARN MemoryStore: Not enough space to cache rdd_11_12 in memory! (computed 14.3 MiB so far)\n",
      "22/11/29 19:49:33 WARN MemoryStore: Not enough space to cache rdd_11_14 in memory! (computed 26.6 MiB so far)\n"
     ]
    },
    {
     "name": "stderr",
     "output_type": "stream",
     "text": [
      "[Stage 122:===================================>                   (14 + 1) / 22]\r"
     ]
    },
    {
     "name": "stdout",
     "output_type": "stream",
     "text": [
      "22/11/29 19:49:33 WARN MemoryStore: Not enough space to cache rdd_11_16 in memory! (computed 14.0 MiB so far)\n",
      "22/11/29 19:49:33 WARN MemoryStore: Not enough space to cache rdd_11_18 in memory! (computed 27.1 MiB so far)\n",
      "22/11/29 19:49:33 WARN MemoryStore: Not enough space to cache rdd_11_20 in memory! (computed 14.0 MiB so far)\n"
     ]
    },
    {
     "name": "stderr",
     "output_type": "stream",
     "text": [
      "                                                                                \r"
     ]
    },
    {
     "data": {
      "text/html": [
       "<table><tr style=\"border-bottom: 1px solid\"><td style=\"font-weight: bold\">(count(1) / scalarsubquery())</td></tr><tr><td>0.26400199040361877</td></tr></table>"
      ],
      "text/plain": [
       "<IPython.core.display.HTML object>"
      ]
     },
     "execution_count": 122,
     "metadata": {},
     "output_type": "execute_result"
    }
   ],
   "source": [
    "%%sparksql\n",
    "SELECT count(*) /\n",
    "(SELECT count(*) as count_all\n",
    " FROM dataset)\n",
    "FROM dataset\n",
    "WHERE target = guess and target = choices[1]\n"
   ]
  },
  {
   "cell_type": "code",
   "execution_count": 123,
   "metadata": {
    "collapsed": true,
    "jupyter": {
     "outputs_hidden": true
    }
   },
   "outputs": [
    {
     "name": "stdout",
     "output_type": "stream",
     "text": [
      "This exercise took 273s\n"
     ]
    }
   ],
   "source": [
    "finish_exercise()"
   ]
  },
  {
   "cell_type": "markdown",
   "metadata": {},
   "source": [
    "## Assignment 6\n",
    "Sort the languages by increasing overall percentage of correct guesses and return the first three languages."
   ]
  },
  {
   "cell_type": "code",
   "execution_count": 124,
   "metadata": {
    "collapsed": true,
    "jupyter": {
     "outputs_hidden": true
    }
   },
   "outputs": [],
   "source": [
    "start_exercise()"
   ]
  },
  {
   "cell_type": "code",
   "execution_count": 142,
   "metadata": {
    "cell_status": {
     "execute_time": {
      "duration": 5276.5859375,
      "end_time": 1573675226440.07
     }
    },
    "jupyter": {
     "outputs_hidden": false
    }
   },
   "outputs": [
    {
     "name": "stdout",
     "output_type": "stream",
     "text": [
      "22/11/29 19:57:53 WARN MemoryStore: Not enough space to cache rdd_11_1 in memory! (computed 13.9 MiB so far)\n",
      "22/11/29 19:57:53 WARN MemoryStore: Not enough space to cache rdd_11_3 in memory! (computed 14.1 MiB so far)\n",
      "22/11/29 19:57:53 WARN MemoryStore: Not enough space to cache rdd_11_4 in memory! (computed 14.2 MiB so far)\n",
      "22/11/29 19:57:53 WARN MemoryStore: Not enough space to cache rdd_11_5 in memory! (computed 14.1 MiB so far)\n"
     ]
    },
    {
     "name": "stderr",
     "output_type": "stream",
     "text": [
      "[Stage 157:==>             (4 + 1) / 22][Stage 158:>               (0 + 0) / 22]\r"
     ]
    },
    {
     "name": "stdout",
     "output_type": "stream",
     "text": [
      "22/11/29 19:57:53 WARN MemoryStore: Not enough space to cache rdd_11_6 in memory! (computed 14.0 MiB so far)\n",
      "22/11/29 19:57:53 WARN MemoryStore: Not enough space to cache rdd_11_7 in memory! (computed 14.3 MiB so far)\n"
     ]
    },
    {
     "name": "stderr",
     "output_type": "stream",
     "text": [
      "[Stage 157:=====>          (7 + 1) / 22][Stage 158:>               (0 + 0) / 22]\r"
     ]
    },
    {
     "name": "stdout",
     "output_type": "stream",
     "text": [
      "22/11/29 19:57:54 WARN MemoryStore: Not enough space to cache rdd_11_8 in memory! (computed 14.1 MiB so far)\n",
      "22/11/29 19:57:54 WARN MemoryStore: Not enough space to cache rdd_11_9 in memory! (computed 13.9 MiB so far)\n"
     ]
    },
    {
     "name": "stderr",
     "output_type": "stream",
     "text": [
      "[Stage 157:======>         (9 + 1) / 22][Stage 158:>               (0 + 0) / 22]\r"
     ]
    },
    {
     "name": "stdout",
     "output_type": "stream",
     "text": [
      "22/11/29 19:57:54 WARN MemoryStore: Not enough space to cache rdd_11_10 in memory! (computed 14.1 MiB so far)\n",
      "22/11/29 19:57:54 WARN MemoryStore: Not enough space to cache rdd_11_11 in memory! (computed 13.8 MiB so far)\n"
     ]
    },
    {
     "name": "stderr",
     "output_type": "stream",
     "text": [
      "[Stage 157:======>        (10 + 1) / 22][Stage 158:>               (0 + 0) / 22]\r"
     ]
    },
    {
     "name": "stdout",
     "output_type": "stream",
     "text": [
      "22/11/29 19:57:54 WARN MemoryStore: Not enough space to cache rdd_11_12 in memory! (computed 14.3 MiB so far)\n",
      "22/11/29 19:57:54 WARN MemoryStore: Not enough space to cache rdd_11_14 in memory! (computed 13.6 MiB so far)\n"
     ]
    },
    {
     "name": "stderr",
     "output_type": "stream",
     "text": [
      "[Stage 157:=========>     (14 + 1) / 22][Stage 158:>               (0 + 0) / 22]\r"
     ]
    },
    {
     "name": "stdout",
     "output_type": "stream",
     "text": [
      "22/11/29 19:57:54 WARN MemoryStore: Not enough space to cache rdd_11_16 in memory! (computed 14.0 MiB so far)\n",
      "22/11/29 19:57:55 WARN MemoryStore: Not enough space to cache rdd_11_18 in memory! (computed 13.9 MiB so far)\n"
     ]
    },
    {
     "name": "stderr",
     "output_type": "stream",
     "text": [
      "[Stage 157:============>  (18 + 1) / 22][Stage 158:>               (0 + 0) / 22]\r"
     ]
    },
    {
     "name": "stdout",
     "output_type": "stream",
     "text": [
      "22/11/29 19:57:55 WARN MemoryStore: Not enough space to cache rdd_11_20 in memory! (computed 14.0 MiB so far)\n"
     ]
    },
    {
     "name": "stderr",
     "output_type": "stream",
     "text": [
      "[Stage 157:==============>(21 + 1) / 22][Stage 158:>               (0 + 0) / 22]\r"
     ]
    },
    {
     "name": "stdout",
     "output_type": "stream",
     "text": [
      "22/11/29 19:57:55 WARN MemoryStore: Not enough space to cache rdd_11_1 in memory! (computed 13.9 MiB so far)\n",
      "22/11/29 19:57:55 WARN MemoryStore: Not enough space to cache rdd_11_3 in memory! (computed 14.1 MiB so far)\n"
     ]
    },
    {
     "name": "stderr",
     "output_type": "stream",
     "text": [
      "[Stage 158:=======>                                                (3 + 1) / 22]\r"
     ]
    },
    {
     "name": "stdout",
     "output_type": "stream",
     "text": [
      "22/11/29 19:57:55 WARN MemoryStore: Not enough space to cache rdd_11_4 in memory! (computed 14.2 MiB so far)\n",
      "22/11/29 19:57:55 WARN MemoryStore: Not enough space to cache rdd_11_5 in memory! (computed 14.1 MiB so far)\n"
     ]
    },
    {
     "name": "stderr",
     "output_type": "stream",
     "text": [
      "[Stage 158:===>            (5 + 1) / 22][Stage 160:>                (0 + 0) / 1]\r"
     ]
    },
    {
     "name": "stdout",
     "output_type": "stream",
     "text": [
      "22/11/29 19:57:56 WARN MemoryStore: Not enough space to cache rdd_11_6 in memory! (computed 14.0 MiB so far)\n",
      "22/11/29 19:57:56 WARN MemoryStore: Not enough space to cache rdd_11_7 in memory! (computed 14.3 MiB so far)\n"
     ]
    },
    {
     "name": "stderr",
     "output_type": "stream",
     "text": [
      "[Stage 158:====>           (6 + 1) / 22][Stage 160:>                (0 + 0) / 1]\r"
     ]
    },
    {
     "name": "stdout",
     "output_type": "stream",
     "text": [
      "22/11/29 19:57:56 WARN MemoryStore: Not enough space to cache rdd_11_8 in memory! (computed 14.1 MiB so far)\n",
      "22/11/29 19:57:56 WARN MemoryStore: Not enough space to cache rdd_11_9 in memory! (computed 13.9 MiB so far)\n"
     ]
    },
    {
     "name": "stderr",
     "output_type": "stream",
     "text": [
      "[Stage 158:=====>          (8 + 1) / 22][Stage 160:>                (0 + 0) / 1]\r"
     ]
    },
    {
     "name": "stdout",
     "output_type": "stream",
     "text": [
      "22/11/29 19:57:56 WARN MemoryStore: Not enough space to cache rdd_11_10 in memory! (computed 14.1 MiB so far)\n",
      "22/11/29 19:57:56 WARN MemoryStore: Not enough space to cache rdd_11_11 in memory! (computed 13.8 MiB so far)\n"
     ]
    },
    {
     "name": "stderr",
     "output_type": "stream",
     "text": [
      "[Stage 158:=======>       (11 + 1) / 22][Stage 160:>                (0 + 0) / 1]\r"
     ]
    },
    {
     "name": "stdout",
     "output_type": "stream",
     "text": [
      "22/11/29 19:57:56 WARN MemoryStore: Not enough space to cache rdd_11_12 in memory! (computed 14.3 MiB so far)\n"
     ]
    },
    {
     "name": "stderr",
     "output_type": "stream",
     "text": [
      "[Stage 158:========>      (13 + 1) / 22][Stage 160:>                (0 + 0) / 1]\r"
     ]
    },
    {
     "name": "stdout",
     "output_type": "stream",
     "text": [
      "22/11/29 19:57:57 WARN MemoryStore: Not enough space to cache rdd_11_14 in memory! (computed 13.6 MiB so far)\n",
      "22/11/29 19:57:57 WARN MemoryStore: Not enough space to cache rdd_11_16 in memory! (computed 14.0 MiB so far)\n"
     ]
    },
    {
     "name": "stderr",
     "output_type": "stream",
     "text": [
      "[Stage 158:===========>   (17 + 1) / 22][Stage 160:>                (0 + 0) / 1]\r"
     ]
    },
    {
     "name": "stdout",
     "output_type": "stream",
     "text": [
      "22/11/29 19:57:57 WARN MemoryStore: Not enough space to cache rdd_11_18 in memory! (computed 13.9 MiB so far)\n",
      "22/11/29 19:57:57 WARN MemoryStore: Not enough space to cache rdd_11_20 in memory! (computed 14.0 MiB so far)\n"
     ]
    },
    {
     "name": "stderr",
     "output_type": "stream",
     "text": [
      "                                                                                \r"
     ]
    },
    {
     "data": {
      "text/html": [
       "<table><tr style=\"border-bottom: 1px solid\"><td style=\"font-weight: bold\">target</td></tr><tr><td>Kannada</td></tr><tr><td>Fijian</td></tr><tr><td>Shona</td></tr></table>"
      ],
      "text/plain": [
       "<IPython.core.display.HTML object>"
      ]
     },
     "execution_count": 142,
     "metadata": {},
     "output_type": "execute_result"
    }
   ],
   "source": [
    "%%sparksql\n",
    "SELECT target\n",
    "FROM\n",
    "(\n",
    "    SELECT target, count(*) as count_a\n",
    "    FROM dataset\n",
    "    GROUP BY target\n",
    ")\n",
    "JOIN\n",
    "(\n",
    "    SELECT target, count(*) as count_c\n",
    "    FROM dataset\n",
    "    WHERE target = guess\n",
    "    GROUP BY target\n",
    ")\n",
    " USING(target)\n",
    "ORDER BY count_c/count_a ASC\n",
    "LIMIT 3"
   ]
  },
  {
   "cell_type": "code",
   "execution_count": 143,
   "metadata": {
    "collapsed": true,
    "jupyter": {
     "outputs_hidden": true
    }
   },
   "outputs": [
    {
     "name": "stdout",
     "output_type": "stream",
     "text": [
      "This exercise took 501s\n"
     ]
    }
   ],
   "source": [
    "finish_exercise()"
   ]
  },
  {
   "cell_type": "markdown",
   "metadata": {},
   "source": [
    "## Assignment 7\n",
    "Return the number of games played on the first day."
   ]
  },
  {
   "cell_type": "code",
   "execution_count": null,
   "metadata": {
    "collapsed": true,
    "jupyter": {
     "outputs_hidden": true
    }
   },
   "outputs": [],
   "source": [
    "start_exercise()"
   ]
  },
  {
   "cell_type": "code",
   "execution_count": 145,
   "metadata": {
    "cell_status": {
     "execute_time": {
      "duration": 3271.09814453125,
      "end_time": 1573675296367.05
     }
    },
    "jupyter": {
     "outputs_hidden": false
    }
   },
   "outputs": [
    {
     "name": "stdout",
     "output_type": "stream",
     "text": [
      "22/11/29 19:59:37 WARN MemoryStore: Not enough space to cache rdd_11_1 in memory! (computed 13.9 MiB so far)\n",
      "22/11/29 19:59:38 WARN MemoryStore: Not enough space to cache rdd_11_3 in memory! (computed 14.1 MiB so far)\n",
      "22/11/29 19:59:38 WARN MemoryStore: Not enough space to cache rdd_11_4 in memory! (computed 14.2 MiB so far)\n",
      "22/11/29 19:59:38 WARN MemoryStore: Not enough space to cache rdd_11_5 in memory! (computed 14.1 MiB so far)\n",
      "22/11/29 19:59:38 WARN MemoryStore: Not enough space to cache rdd_11_6 in memory! (computed 14.0 MiB so far)\n",
      "22/11/29 19:59:38 WARN MemoryStore: Not enough space to cache rdd_11_7 in memory! (computed 14.3 MiB so far)\n",
      "22/11/29 19:59:38 WARN MemoryStore: Not enough space to cache rdd_11_8 in memory! (computed 14.1 MiB so far)\n",
      "22/11/29 19:59:38 WARN MemoryStore: Not enough space to cache rdd_11_9 in memory! (computed 13.9 MiB so far)\n"
     ]
    },
    {
     "name": "stderr",
     "output_type": "stream",
     "text": [
      "[Stage 169:====================>                                   (8 + 1) / 22]\r"
     ]
    },
    {
     "name": "stdout",
     "output_type": "stream",
     "text": [
      "22/11/29 19:59:38 WARN MemoryStore: Not enough space to cache rdd_11_10 in memory! (computed 14.1 MiB so far)\n",
      "22/11/29 19:59:38 WARN MemoryStore: Not enough space to cache rdd_11_11 in memory! (computed 13.8 MiB so far)\n"
     ]
    },
    {
     "name": "stderr",
     "output_type": "stream",
     "text": [
      "[Stage 169:==============================>                        (12 + 1) / 22]\r"
     ]
    },
    {
     "name": "stdout",
     "output_type": "stream",
     "text": [
      "22/11/29 19:59:39 WARN MemoryStore: Not enough space to cache rdd_11_12 in memory! (computed 14.3 MiB so far)\n",
      "22/11/29 19:59:39 WARN MemoryStore: Not enough space to cache rdd_11_14 in memory! (computed 13.6 MiB so far)\n"
     ]
    },
    {
     "name": "stderr",
     "output_type": "stream",
     "text": [
      "[Stage 169:===================================>                   (14 + 1) / 22]\r"
     ]
    },
    {
     "name": "stdout",
     "output_type": "stream",
     "text": [
      "22/11/29 19:59:39 WARN MemoryStore: Not enough space to cache rdd_11_16 in memory! (computed 14.0 MiB so far)\n",
      "22/11/29 19:59:39 WARN MemoryStore: Not enough space to cache rdd_11_18 in memory! (computed 13.9 MiB so far)\n"
     ]
    },
    {
     "name": "stderr",
     "output_type": "stream",
     "text": [
      "[Stage 169:=============================================>         (18 + 1) / 22]\r"
     ]
    },
    {
     "name": "stdout",
     "output_type": "stream",
     "text": [
      "22/11/29 19:59:39 WARN MemoryStore: Not enough space to cache rdd_11_20 in memory! (computed 14.0 MiB so far)\n",
      "22/11/29 19:59:39 WARN MemoryStore: Not enough space to cache rdd_11_1 in memory! (computed 13.9 MiB so far)\n"
     ]
    },
    {
     "name": "stderr",
     "output_type": "stream",
     "text": [
      "                                                                                \r"
     ]
    },
    {
     "name": "stdout",
     "output_type": "stream",
     "text": [
      "22/11/29 19:59:39 WARN MemoryStore: Not enough space to cache rdd_11_3 in memory! (computed 14.1 MiB so far)\n",
      "22/11/29 19:59:39 WARN MemoryStore: Not enough space to cache rdd_11_4 in memory! (computed 14.2 MiB so far)\n",
      "22/11/29 19:59:40 WARN MemoryStore: Not enough space to cache rdd_11_5 in memory! (computed 14.1 MiB so far)\n",
      "22/11/29 19:59:40 WARN MemoryStore: Not enough space to cache rdd_11_6 in memory! (computed 14.0 MiB so far)\n",
      "22/11/29 19:59:40 WARN MemoryStore: Not enough space to cache rdd_11_7 in memory! (computed 14.3 MiB so far)\n"
     ]
    },
    {
     "name": "stderr",
     "output_type": "stream",
     "text": [
      "[Stage 172:=================>                                      (7 + 1) / 22]\r"
     ]
    },
    {
     "name": "stdout",
     "output_type": "stream",
     "text": [
      "22/11/29 19:59:40 WARN MemoryStore: Not enough space to cache rdd_11_8 in memory! (computed 14.1 MiB so far)\n",
      "22/11/29 19:59:40 WARN MemoryStore: Not enough space to cache rdd_11_9 in memory! (computed 13.9 MiB so far)\n",
      "22/11/29 19:59:40 WARN MemoryStore: Not enough space to cache rdd_11_10 in memory! (computed 14.1 MiB so far)\n"
     ]
    },
    {
     "name": "stderr",
     "output_type": "stream",
     "text": [
      "[Stage 172:=========================>                             (10 + 1) / 22]\r"
     ]
    },
    {
     "name": "stdout",
     "output_type": "stream",
     "text": [
      "22/11/29 19:59:40 WARN MemoryStore: Not enough space to cache rdd_11_11 in memory! (computed 13.8 MiB so far)\n",
      "22/11/29 19:59:40 WARN MemoryStore: Not enough space to cache rdd_11_12 in memory! (computed 14.3 MiB so far)\n",
      "22/11/29 19:59:40 WARN MemoryStore: Not enough space to cache rdd_11_14 in memory! (computed 13.6 MiB so far)\n"
     ]
    },
    {
     "name": "stderr",
     "output_type": "stream",
     "text": [
      "[Stage 172:===================================>                   (14 + 1) / 22]\r"
     ]
    },
    {
     "name": "stdout",
     "output_type": "stream",
     "text": [
      "22/11/29 19:59:40 WARN MemoryStore: Not enough space to cache rdd_11_16 in memory! (computed 14.0 MiB so far)\n",
      "22/11/29 19:59:40 WARN MemoryStore: Not enough space to cache rdd_11_18 in memory! (computed 13.9 MiB so far)\n",
      "22/11/29 19:59:40 WARN MemoryStore: Not enough space to cache rdd_11_20 in memory! (computed 14.0 MiB so far)\n"
     ]
    },
    {
     "name": "stderr",
     "output_type": "stream",
     "text": [
      "                                                                                \r"
     ]
    },
    {
     "data": {
      "text/html": [
       "<table><tr style=\"border-bottom: 1px solid\"><td style=\"font-weight: bold\">count(1)</td></tr><tr><td>163</td></tr></table>"
      ],
      "text/plain": [
       "<IPython.core.display.HTML object>"
      ]
     },
     "execution_count": 145,
     "metadata": {},
     "output_type": "execute_result"
    }
   ],
   "source": [
    "%%sparksql\n",
    "SELECT count(*) FROM dataset WHERE date = (SELECT min(date) FROM dataset)"
   ]
  },
  {
   "cell_type": "code",
   "execution_count": 146,
   "metadata": {
    "collapsed": true,
    "jupyter": {
     "outputs_hidden": true
    },
    "scrolled": true
   },
   "outputs": [
    {
     "name": "stdout",
     "output_type": "stream",
     "text": [
      "This exercise took 598s\n"
     ]
    },
    {
     "name": "stdout",
     "output_type": "stream",
     "text": [
      "22/11/29 23:36:42 WARN HeartbeatReceiver: Removing executor driver with no recent heartbeats: 264730 ms exceeds timeout 120000 ms\n",
      "22/11/29 23:36:42 WARN SparkContext: Killing executors is not supported by current scheduler.\n"
     ]
    }
   ],
   "source": [
    "finish_exercise()"
   ]
  },
  {
   "cell_type": "code",
   "execution_count": null,
   "metadata": {},
   "outputs": [],
   "source": []
  }
 ],
 "metadata": {
  "kernelspec": {
   "display_name": "Python 3.10.8 ('bigdata-exercises')",
   "language": "python",
   "name": "python3"
  },
  "language_info": {
   "codemirror_mode": {
    "name": "ipython",
    "version": 3
   },
   "file_extension": ".py",
   "mimetype": "text/x-python",
   "name": "python",
   "nbconvert_exporter": "python",
   "pygments_lexer": "ipython3",
   "version": "3.10.8"
  },
  "vscode": {
   "interpreter": {
    "hash": "539092afe4598e3929dad0aecef694c63943bf9cfe24c3cb9b0067f85b7fbdca"
   }
  }
 },
 "nbformat": 4,
 "nbformat_minor": 4
}
